{
 "cells": [
  {
   "cell_type": "markdown",
   "id": "ac64f10c",
   "metadata": {},
   "source": [
    "# Twitter NLP Sentiment Classifier\n",
    "\n",
    "This notebook builds a simple NLP model to classify tweets as positive, neutral, or negative using the [Twitter140 dataset](https://www.kaggle.com/datasets/kazanova/sentiment140)\n",
    "\n"
   ]
  },
  {
   "cell_type": "code",
   "execution_count": 137,
   "id": "0155e82b",
   "metadata": {},
   "outputs": [],
   "source": [
    "#import basic core libraries \n",
    "import numpy as np\n",
    "import pandas as pd\n",
    "import matplotlib.pyplot as plt\n",
    "import seaborn as sns"
   ]
  },
  {
   "cell_type": "markdown",
   "id": "d080874a",
   "metadata": {},
   "source": [
    "---\n",
    "### 1. Data Preprocessing 🔨\n",
    "\n",
    "#### Steps 📄:\n",
    "- Load and inspect Sentiment140 dataset\n",
    "\n",
    "- Split into training, validation, and testing sets"
   ]
  },
  {
   "cell_type": "markdown",
   "id": "340513be",
   "metadata": {},
   "source": [
    "We'll begin by loading our dataframe and exploring the dataset to get an understanding of its structure and the distribution of sentiment labels."
   ]
  },
  {
   "cell_type": "code",
   "execution_count": 138,
   "id": "164a744d",
   "metadata": {},
   "outputs": [
    {
     "name": "stdout",
     "output_type": "stream",
     "text": [
      "   0           1                             2         3                4  \\\n",
      "0  0  1467810369  Mon Apr 06 22:19:45 PDT 2009  NO_QUERY  _TheSpecialOne_   \n",
      "1  0  1467810672  Mon Apr 06 22:19:49 PDT 2009  NO_QUERY    scotthamilton   \n",
      "2  0  1467810917  Mon Apr 06 22:19:53 PDT 2009  NO_QUERY         mattycus   \n",
      "3  0  1467811184  Mon Apr 06 22:19:57 PDT 2009  NO_QUERY          ElleCTF   \n",
      "4  0  1467811193  Mon Apr 06 22:19:57 PDT 2009  NO_QUERY           Karoli   \n",
      "\n",
      "                                                   5  \n",
      "0  @switchfoot http://twitpic.com/2y1zl - Awww, t...  \n",
      "1  is upset that he can't update his Facebook by ...  \n",
      "2  @Kenichan I dived many times for the ball. Man...  \n",
      "3    my whole body feels itchy and like its on fire   \n",
      "4  @nationwideclass no, it's not behaving at all....  \n"
     ]
    },
    {
     "data": {
      "text/plain": [
       "0\n",
       "0    800000\n",
       "4    800000\n",
       "Name: count, dtype: int64"
      ]
     },
     "execution_count": 138,
     "metadata": {},
     "output_type": "execute_result"
    }
   ],
   "source": [
    "df = pd.read_csv(\"../data/Sentiment140.csv\", encoding=\"latin-1\", header=None)\n",
    "\n",
    "print(df.head())\n",
    "df[0].value_counts()"
   ]
  },
  {
   "cell_type": "markdown",
   "id": "657516a6",
   "metadata": {},
   "source": [
    "We are only going to be using the sentiment and text, which are found in column 1 and 5 respectively.<br/>\n",
    "The sentiment is distributed evenly between 0 (negative) and 4 (positive).<br/>"
   ]
  },
  {
   "cell_type": "markdown",
   "id": "0ce3302c",
   "metadata": {},
   "source": [
    "Lets label our columns and grab the ones we want. <br/>\n",
    "We'll also map all 4s to 1 for binary simplicity."
   ]
  },
  {
   "cell_type": "code",
   "execution_count": 139,
   "id": "64caf399",
   "metadata": {},
   "outputs": [
    {
     "name": "stdout",
     "output_type": "stream",
     "text": [
      "   sentiment                                               text\n",
      "0          0  @switchfoot http://twitpic.com/2y1zl - Awww, t...\n",
      "1          0  is upset that he can't update his Facebook by ...\n",
      "2          0  @Kenichan I dived many times for the ball. Man...\n",
      "3          0    my whole body feels itchy and like its on fire \n",
      "4          0  @nationwideclass no, it's not behaving at all....\n",
      "sentiment\n",
      "0    800000\n",
      "1    800000\n",
      "Name: count, dtype: int64\n"
     ]
    }
   ],
   "source": [
    "df.columns = [\"sentiment\", \"id\", \"date\", \"flag\", \"user\", \"text\"]\n",
    "df = df[[\"sentiment\", \"text\"]]\n",
    "\n",
    "df[\"sentiment\"] = df[\"sentiment\"].replace({4:1})\n",
    "\n",
    "print(df.head())\n",
    "print(df[\"sentiment\"].value_counts())"
   ]
  },
  {
   "cell_type": "markdown",
   "id": "73994a60",
   "metadata": {},
   "source": [
    "Now we can split the data into train, validation, and test using stratified sampling to ensure fair evaluation."
   ]
  },
  {
   "cell_type": "code",
   "execution_count": null,
   "id": "d7f62d89",
   "metadata": {},
   "outputs": [
    {
     "name": "stdout",
     "output_type": "stream",
     "text": [
      "sentiment\n",
      "0    800000\n",
      "1    800000\n",
      "Name: count, dtype: int64\n",
      "sentiment\n",
      "1    791281\n",
      "0    790185\n",
      "Name: count, dtype: int64\n",
      "train split: 1138655\n",
      "validation split: 284664\n",
      "test split: 158147\n"
     ]
    }
   ],
   "source": [
    "from sklearn.model_selection import train_test_split\n",
    "\n",
    "print (df[\"sentiment\"].value_counts())\n",
    "df = df.drop_duplicates(subset=\"text\")\n",
    "print (df[\"sentiment\"].value_counts())\n",
    "\n",
    "# Split into train&val (90%) and the test set (10%)\n",
    "train_val_texts, test_texts, train_val_labels, test_labels = train_test_split(df[\"text\"].values, df[\"sentiment\"].values, test_size=0.1, random_state=1)\n",
    "\n",
    "# Now split train&val into train (90% of 90% --> 81%) and val (10% of 90% --> 9%)\n",
    "train_texts, val_texts, train_labels, val_labels = train_test_split(train_val_texts, train_val_labels, test_size=0.2, random_state=1)\n",
    "\n",
    "print(f\"train split: {train_texts.shape[0]}\")\n",
    "print(f\"validation split: {val_texts.shape[0]}\")\n",
    "print(f\"test split: {test_texts.shape[0]}\")"
   ]
  },
  {
   "cell_type": "markdown",
   "id": "54261864",
   "metadata": {},
   "source": [
    "We will vectorize text at the beginning of our ML approach and tokenize at the start of our DL approach."
   ]
  },
  {
   "cell_type": "markdown",
   "id": "39bc3609",
   "metadata": {},
   "source": [
    "---\n",
    "### 2. Classical ML Approach 💻\n",
    "\n",
    "#### Steps 📄:\n",
    "- Extract features with TF-IDF\n",
    "\n",
    "- Train logistic regression model\n",
    "\n",
    "- Evaluate model on validation and test set\n",
    "\n",
    "- Analyze performance"
   ]
  },
  {
   "cell_type": "markdown",
   "id": "5bce7dcc",
   "metadata": {},
   "source": [
    "We will start our ML approach by vectorizing our text data and fitting our model to the train data."
   ]
  },
  {
   "cell_type": "code",
   "execution_count": 141,
   "id": "5ddc8e18",
   "metadata": {},
   "outputs": [],
   "source": [
    "from sklearn.feature_extraction.text import TfidfVectorizer\n",
    "\n",
    "vectorizer = TfidfVectorizer(max_features=15000)\n",
    "\n",
    "# These will be the features for our ML model, we fit on our training features\n",
    "ml_X_train = vectorizer.fit_transform(train_texts)\n",
    "ml_X_val = vectorizer.transform(val_texts)\n",
    "ml_X_test = vectorizer.transform(test_texts)\n",
    "\n",
    "# The labels for our ML model\n",
    "ml_y_train = train_labels\n",
    "ml_y_val = val_labels\n",
    "ml_y_test = test_labels"
   ]
  },
  {
   "cell_type": "markdown",
   "id": "52135809",
   "metadata": {},
   "source": [
    "Now we can take a look at the first 10 words inside the internal feature matrix and their respective IDF scores."
   ]
  },
  {
   "cell_type": "code",
   "execution_count": 142,
   "id": "ce8ae01e",
   "metadata": {},
   "outputs": [
    {
     "name": "stdout",
     "output_type": "stream",
     "text": [
      "First 10 words: ['snuggled', 'in', 'on', 'the', 'couch', 'with', 'got', 'player', 'so', 'finally']\n",
      "IDF Scores: [ 8.25079712  8.47301288 10.3603917  10.50270792 10.41275968 10.26322795\n",
      " 10.50270792  9.90840658  9.95492659  9.5887729 ]\n"
     ]
    }
   ],
   "source": [
    "print (f\"First 10 words: {list(vectorizer.vocabulary_.keys())[:10]}\")\n",
    "print (f\"IDF Scores: {vectorizer.idf_[:10]}\")"
   ]
  },
  {
   "cell_type": "markdown",
   "id": "0e5fbcb7",
   "metadata": {},
   "source": [
    "Next we'll initialize and train a logistic regression model on our data."
   ]
  },
  {
   "cell_type": "code",
   "execution_count": 239,
   "id": "015fdfdc",
   "metadata": {},
   "outputs": [],
   "source": [
    "from sklearn.linear_model import LogisticRegression\n",
    "import time\n",
    "\n",
    "# (we will use the time later...)\n",
    "clf = LogisticRegression(max_iter=1000)\n",
    "start = time.time()\n",
    "clf.fit(ml_X_train, ml_y_train)\n",
    "end = time.time()\n",
    "ml_time = end-start"
   ]
  },
  {
   "cell_type": "markdown",
   "id": "be541c7b",
   "metadata": {},
   "source": [
    "Now lets get a baseline to see how our model performs on its training data."
   ]
  },
  {
   "cell_type": "code",
   "execution_count": 144,
   "id": "c2c993e5",
   "metadata": {},
   "outputs": [
    {
     "name": "stdout",
     "output_type": "stream",
     "text": [
      "Training Accuracy: 0.8026557649156242\n"
     ]
    }
   ],
   "source": [
    "from sklearn.metrics import accuracy_score\n",
    "\n",
    "ml_train_preds = clf.predict(ml_X_train)\n",
    "\n",
    "print (f\"Training Accuracy: {accuracy_score(ml_y_train, ml_train_preds)}\")"
   ]
  },
  {
   "cell_type": "markdown",
   "id": "9a65eef8",
   "metadata": {},
   "source": [
    "Our training accuracy is good, 75-80% is a nice range to fall in for this model on this dataset. We're just going to be using this model as a baseline to compare against our DL model so we don't necessarily need to fine tune the hyperparameters (unless we see an issue). Before we evaluate on our test set, though, lets check our validation accuracy to make sure the model isn't overfitting."
   ]
  },
  {
   "cell_type": "code",
   "execution_count": 145,
   "id": "755047c8",
   "metadata": {},
   "outputs": [
    {
     "name": "stdout",
     "output_type": "stream",
     "text": [
      "Validation Accuracy: 0.7956011297529719\n",
      "              precision    recall  f1-score   support\n",
      "\n",
      "           0       0.80      0.78      0.79    142442\n",
      "           1       0.79      0.81      0.80    142222\n",
      "\n",
      "    accuracy                           0.80    284664\n",
      "   macro avg       0.80      0.80      0.80    284664\n",
      "weighted avg       0.80      0.80      0.80    284664\n",
      "\n"
     ]
    }
   ],
   "source": [
    "from sklearn.metrics import classification_report\n",
    "\n",
    "ml_val_preds = clf.predict(ml_X_val)\n",
    "\n",
    "print (f\"Validation Accuracy: {accuracy_score(ml_y_val, ml_val_preds)}\")\n",
    "print (classification_report(ml_y_val, ml_val_preds))"
   ]
  },
  {
   "cell_type": "markdown",
   "id": "3616c9e9",
   "metadata": {},
   "source": [
    "Nice, it looks like the model isn't overfitting and is doing well at generalizing to our validation set."
   ]
  },
  {
   "cell_type": "markdown",
   "id": "19f96a85",
   "metadata": {},
   "source": [
    "Now lets evaluate the model's performance on the test set."
   ]
  },
  {
   "cell_type": "code",
   "execution_count": 146,
   "id": "f3b09b9c",
   "metadata": {},
   "outputs": [
    {
     "name": "stdout",
     "output_type": "stream",
     "text": [
      "Test Accuracy: 0.7970116410681202\n",
      "              precision    recall  f1-score   support\n",
      "\n",
      "           0       0.80      0.78      0.79     79036\n",
      "           1       0.79      0.81      0.80     79111\n",
      "\n",
      "    accuracy                           0.80    158147\n",
      "   macro avg       0.80      0.80      0.80    158147\n",
      "weighted avg       0.80      0.80      0.80    158147\n",
      "\n"
     ]
    }
   ],
   "source": [
    "ml_test_preds = clf.predict(ml_X_test)\n",
    "\n",
    "print (f\"Test Accuracy: {accuracy_score(ml_y_test, ml_test_preds)}\")\n",
    "print (classification_report(ml_y_test, ml_test_preds))"
   ]
  },
  {
   "cell_type": "markdown",
   "id": "1862b405",
   "metadata": {},
   "source": [
    "Great, around 79% accuracy is a nice baseline to compare to moving fowards. Now we can move to our DL approach."
   ]
  },
  {
   "cell_type": "markdown",
   "id": "e4682b6f",
   "metadata": {},
   "source": [
    "---\n",
    "### 3. Deep Learning Approach 🧠\n",
    "\n",
    "#### Steps 📄:\n",
    "- Tokenize and vectorize features\n",
    "\n",
    "- Create dataset and dataloaders\n",
    "\n",
    "- Build and train LSTM model\n",
    "\n",
    "- Test on validation and test sets"
   ]
  },
  {
   "cell_type": "markdown",
   "id": "82635ce9",
   "metadata": {},
   "source": [
    "Lets start by building our vocabulary which includes tokenization and numericalization."
   ]
  },
  {
   "cell_type": "code",
   "execution_count": 147,
   "id": "9c98bb7c",
   "metadata": {},
   "outputs": [
    {
     "name": "stdout",
     "output_type": "stream",
     "text": [
      "Vocab size: 92569\n",
      "First 3 words: snuggled, in, on\n"
     ]
    }
   ],
   "source": [
    "import torch\n",
    "from collections import Counter\n",
    "\n",
    "class Vocabulary:\n",
    "    def __init__(self, min_freq=5):\n",
    "        self.min_freq = min_freq\n",
    "        self.word2idx = {\"<pad>\": 0, \"<unk>\": 1}\n",
    "        self.idx2word = {0: \"<pad>\", 1: \"<unk>\"}\n",
    "        self.idx = 2\n",
    "    \n",
    "    # Build vocabulary, updating word2idx and idx2word with words that appear >= min_freq\n",
    "    def build_vocab(self, tweets):\n",
    "        counter = Counter()\n",
    "        for tweet in tweets:\n",
    "            counter.update(tweet.lower().split())\n",
    "\n",
    "        for word, count in counter.items():\n",
    "            if count>= self.min_freq and word not in self.word2idx:\n",
    "                self.word2idx[word] = self.idx\n",
    "                self.idx2word[self.idx] = word\n",
    "                self.idx+= 1\n",
    "    \n",
    "    # Convert a given tweet to indexes\n",
    "    def numericalize(self, tweet):\n",
    "        tokens = tweet.lower().split()\n",
    "        return [self.word2idx.get(token, self.word2idx[\"<unk>\"]) for token in tokens]\n",
    "\n",
    "# Build vocab\n",
    "vocab = Vocabulary()\n",
    "#vocab.build_vocab(df_train[\"text\"])\n",
    "\n",
    "\n",
    "vocab.build_vocab(train_texts)\n",
    "\n",
    "# Check\n",
    "print (f\"Vocab size: {len(vocab.word2idx)}\")\n",
    "print (f\"First 3 words: {vocab.idx2word[2]}, {vocab.idx2word[3]}, {vocab.idx2word[4]}\")"
   ]
  },
  {
   "cell_type": "markdown",
   "id": "42d09b5a",
   "metadata": {},
   "source": [
    "Great, now lets create our `Dataset` class."
   ]
  },
  {
   "cell_type": "code",
   "execution_count": 148,
   "id": "7acf7d12",
   "metadata": {},
   "outputs": [],
   "source": [
    "from torch.utils.data import Dataset\n",
    "\n",
    "# PyTorch Dataset for our DataLoaders\n",
    "class TweetDataset(Dataset):\n",
    "    def __init__(self, tweets, sentiments, vocab, max_len=100):\n",
    "        self.tweets = tweets\n",
    "        self.sentiments = sentiments\n",
    "        self.vocab = vocab\n",
    "        self.max_len = max_len\n",
    "        \n",
    "    def __len__(self):\n",
    "        return len(self.tweets)\n",
    "    \n",
    "    # Convert to numerical tokens and return feature and label as tensor pair\n",
    "    def __getitem__(self, index):\n",
    "        text = self.tweets[index]\n",
    "        label = self.sentiments[index]\n",
    "\n",
    "        # Convert text to numericalized tokens\n",
    "        numericalized = self.vocab.numericalize(text)\n",
    "        \n",
    "        return (\n",
    "            torch.tensor(numericalized, dtype=torch.long),\n",
    "            torch.tensor(label, dtype=torch.float)\n",
    "        )"
   ]
  },
  {
   "cell_type": "markdown",
   "id": "d7956fcc",
   "metadata": {},
   "source": [
    "Next lets make the collate function for our DataLoaders to pad our texts and batch our features and labels"
   ]
  },
  {
   "cell_type": "code",
   "execution_count": 149,
   "id": "e922aaf4",
   "metadata": {},
   "outputs": [],
   "source": [
    "from torch.nn.utils.rnn import pad_sequence\n",
    "\n",
    "def collate(batch):\n",
    "    texts, labels = zip(*batch)\n",
    "\n",
    "    # pads tweets to same length and returns as a stacked tensor (batch size, longest tweet)\n",
    "    padded_texts = pad_sequence(texts, batch_first=True, padding_value=0)\n",
    "\n",
    "    # stacks labels into tensor\n",
    "    labels = torch.stack(labels)\n",
    "\n",
    "    return padded_texts, labels"
   ]
  },
  {
   "cell_type": "markdown",
   "id": "180e438f",
   "metadata": {},
   "source": [
    "Now lets make the `DataLoaders` for our model."
   ]
  },
  {
   "cell_type": "code",
   "execution_count": 150,
   "id": "6d001601",
   "metadata": {},
   "outputs": [],
   "source": [
    "from torch.utils.data import DataLoader\n",
    "\n",
    "max_len = 100\n",
    "batch_size = 64\n",
    "\n",
    "\n",
    "# Creates datasets\n",
    "test_dataset = TweetDataset(test_texts.tolist(), test_labels.tolist(), vocab, max_len)\n",
    "train_dataset = TweetDataset(train_texts.tolist(), train_labels.tolist(), vocab, max_len)\n",
    "val_dataset = TweetDataset(val_texts.tolist(), val_labels.tolist(), vocab, max_len)\n",
    "    \n",
    "# Wraps datasets in DataLoaders and shuffles training dataset\n",
    "train_loader = DataLoader(train_dataset, batch_size=batch_size, shuffle=True, collate_fn=collate)\n",
    "val_loader = DataLoader(val_dataset, batch_size=batch_size, shuffle=False, collate_fn=collate)\n",
    "test_loader = DataLoader(test_dataset, batch_size=batch_size, shuffle=False, collate_fn=collate)"
   ]
  },
  {
   "cell_type": "markdown",
   "id": "1cbcf7f5",
   "metadata": {},
   "source": [
    "Before we move to building the model, lets verify our data."
   ]
  },
  {
   "cell_type": "code",
   "execution_count": 151,
   "id": "eb423214",
   "metadata": {},
   "outputs": [
    {
     "name": "stdout",
     "output_type": "stream",
     "text": [
      "Training samples: 1138655\n",
      "Validation samples: 284664\n",
      "Test samples: 158147\n",
      "Raw sample text: Snuggled in on the couch with Dex.. I got a divex player so I'm finally watching season 1 of True Blood @wallybertone sent me   xox\n",
      "Processed sample text: tensor([ 2,  3,  4,  5,  6,  7,  1,  8,  9, 10,  1, 11, 12, 13, 14, 15, 16, 17,\n",
      "        18, 19, 20,  1, 21, 22, 23])\n",
      "Sample label: 1.0\n",
      "Texts tensor shape: torch.Size([64, 29])\n",
      "Labels tensor shape: torch.Size([64])\n",
      "First text in batch: just got home from school, done my science exam, gonna catch up on some <unk> didn't sleep well last night\n",
      "First label in batch: 0.0\n"
     ]
    }
   ],
   "source": [
    "# Check our dataset lengths\n",
    "print (f\"Training samples: {len(train_dataset)}\")\n",
    "print (f\"Validation samples: {len(val_dataset)}\")\n",
    "print (f\"Test samples: {len(test_dataset)}\")\n",
    "\n",
    "# Check the first training sample\n",
    "text, sentiment = train_dataset[0]\n",
    "print (f\"Raw sample text: {train_texts[0]}\")\n",
    "print (f\"Processed sample text: {text}\")\n",
    "print (f\"Sample label: {sentiment}\")\n",
    "\n",
    "# Check batch shapes\n",
    "batch_texts, batch_sentiments = next(iter(train_loader))\n",
    "print (f\"Texts tensor shape: {batch_texts.shape}\")\n",
    "print (f\"Labels tensor shape: {batch_sentiments.shape}\")\n",
    "\n",
    "#Check batch content\n",
    "first_text = [vocab.idx2word[i] for i in (batch_texts[0].tolist()) if i != vocab.word2idx[\"<pad>\"]]\n",
    "print (f\"First text in batch: {' '.join(first_text)}\")\n",
    "print (f\"First label in batch: {batch_sentiments[0].item()}\")"
   ]
  },
  {
   "cell_type": "markdown",
   "id": "29902a73",
   "metadata": {},
   "source": [
    "Great, our datasets look good and our DataLoaders appear to be working. <br/>\n",
    "Feature tensors are the right shape (labels as well) and padding looks to be working."
   ]
  },
  {
   "cell_type": "markdown",
   "id": "05e70f25",
   "metadata": {},
   "source": [
    "Now lets move foward with making our LSTM model."
   ]
  },
  {
   "cell_type": "code",
   "execution_count": 152,
   "id": "26adf3fa",
   "metadata": {},
   "outputs": [],
   "source": [
    "import torch.nn as nn\n",
    "      \n",
    "class LSTMClassifier(nn.Module):\n",
    "    def __init__(self, vocab_size, embedding_dim, hidden_dim, output_dim, pad_index, dropout_rate):\n",
    "        super().__init__()\n",
    "        # Embedding layer: converts tweets (stored as vocab indexes) to dense embedded vectors\n",
    "        self.embedding = nn.Embedding(vocab_size, embedding_dim, pad_index)\n",
    "        nn.init.uniform_(self.embedding.weight, -0.05, 0.05)\n",
    "        # LSTM layer: processes embedded input, learning sequential patterns\n",
    "        self.lstm = nn.LSTM(embedding_dim, hidden_dim, batch_first=True)\n",
    "        # Dropout layer: drops out percentage of neurons for regularization\n",
    "        self.dropout = nn.Dropout(dropout_rate)\n",
    "        # Fully connected layer: takes final hidden state from LSTM and converts to output classes\n",
    "        self.fc = nn.Linear(hidden_dim, output_dim)\n",
    "\n",
    "    def forward(self, x):\n",
    "        embedded = self.embedding(x)\n",
    "        lstm_out, _ = self.lstm(embedded)\n",
    "        \n",
    "        last_state = self.dropout(lstm_out[:, -1, :])\n",
    "        return self.fc(last_state)"
   ]
  },
  {
   "cell_type": "markdown",
   "id": "65347b9b",
   "metadata": {},
   "source": [
    "With our layers and forward pass defined, lets move on to defining our hyperparameters."
   ]
  },
  {
   "cell_type": "code",
   "execution_count": 219,
   "id": "d765edd1",
   "metadata": {},
   "outputs": [],
   "source": [
    "device = torch.device('cuda' if torch.cuda.is_available() else 'cpu')\n",
    "\n",
    "model = LSTMClassifier(\n",
    "    vocab_size=len(vocab.word2idx),\n",
    "    embedding_dim = 100,\n",
    "    hidden_dim = 128,\n",
    "    output_dim = 1,\n",
    "    pad_index = 0,\n",
    "    dropout_rate = 0.5\n",
    ").to(device)\n",
    "\n",
    "# We are using BCE for our loss function to classify our logits from the FC layer w/ softmax \n",
    "# Adam is a good, simple optimizer for NLP tasks, especially when using LSTMs like this model\n",
    "criterion = nn.BCEWithLogitsLoss()\n",
    "optimizer = torch.optim.Adam(model.parameters(), lr=.001)"
   ]
  },
  {
   "cell_type": "markdown",
   "id": "d58ffcff",
   "metadata": {},
   "source": [
    "With our model defined, lets build the training loop."
   ]
  },
  {
   "cell_type": "code",
   "execution_count": 154,
   "id": "5916a727",
   "metadata": {},
   "outputs": [],
   "source": [
    "def train_loop(model, iterator, optimizer, criterion):\n",
    "    epoch_loss = 0\n",
    "    epoch_acc = 0\n",
    "    batches = len(iterator)\n",
    "    model.train()\n",
    "    \n",
    "    for batch_idx, batch in enumerate(iterator):\n",
    "        optimizer.zero_grad()\n",
    "        texts, labels = batch\n",
    "        texts, labels = texts.to(device), labels.to(device)\n",
    "        \n",
    "        predictions = model(texts).squeeze(1)\n",
    "        loss = criterion(predictions, labels)\n",
    "        \n",
    "        # Calculate accuracy\n",
    "        rounded_preds = torch.round(torch.sigmoid(predictions))\n",
    "        correct = (rounded_preds == labels).float()\n",
    "        acc = correct.sum() / len(correct)\n",
    "        \n",
    "        loss.backward()\n",
    "        optimizer.step()\n",
    "        \n",
    "        epoch_loss += loss.item()\n",
    "        epoch_acc += acc.item()\n",
    "        print(f\"Processing batch {batch_idx + 1}/{batches}\", end='\\r')\n",
    "        \n",
    "    return epoch_loss / len(iterator), epoch_acc / len(iterator)"
   ]
  },
  {
   "cell_type": "markdown",
   "id": "70933c3f",
   "metadata": {},
   "source": [
    "Next, lets make our evaluation function."
   ]
  },
  {
   "cell_type": "code",
   "execution_count": 155,
   "id": "21e37177",
   "metadata": {},
   "outputs": [],
   "source": [
    "def evaluate(model, iterator, criterion):\n",
    "    epoch_loss = 0\n",
    "    epoch_acc = 0\n",
    "    model.eval()\n",
    "    \n",
    "    with torch.no_grad():\n",
    "        for batch in iterator:\n",
    "            texts, labels = batch\n",
    "            texts, labels = texts.to(device), labels.to(device)\n",
    "            \n",
    "            predictions = model(texts).squeeze(1)\n",
    "            loss = criterion(predictions, labels)\n",
    "            \n",
    "            rounded_preds = torch.round(torch.sigmoid(predictions))\n",
    "            correct = (rounded_preds == labels).float()\n",
    "            acc = correct.sum() / len(correct)\n",
    "            \n",
    "            epoch_loss += loss.item()\n",
    "            epoch_acc += acc.item()\n",
    "            \n",
    "    return epoch_loss / len(iterator), epoch_acc / len(iterator)"
   ]
  },
  {
   "cell_type": "markdown",
   "id": "27425c3b",
   "metadata": {},
   "source": [
    "To get our best model and prevent overfitting, lets implement a simple early stopping class."
   ]
  },
  {
   "cell_type": "code",
   "execution_count": 156,
   "id": "d5c969ae",
   "metadata": {},
   "outputs": [],
   "source": [
    "class EarlyStopping:\n",
    "    def __init__(self, patience=2, delta=0, verbose=False):\n",
    "        self.patience = patience\n",
    "        self.delta = delta\n",
    "        self.verbose = verbose\n",
    "        self.counter = 0\n",
    "        self.best_score = None\n",
    "        self.stop_early = False\n",
    "        self.min_loss = np.Inf\n",
    "        self.best_state = None\n",
    "        \n",
    "    def __call__(self, val_loss, model):\n",
    "        score = -val_loss\n",
    "        if self.best_score is None:\n",
    "            self.best_score = score\n",
    "            self.save_checkpoint(val_loss, model)\n",
    "        elif score < self.best_score + self.delta:\n",
    "            self.counter += 1\n",
    "            if self.verbose:\n",
    "                print(f\"Early Stop counter: {self.counter}/{self.patience}\")\n",
    "            if self.counter >= self.patience:\n",
    "                self.stop_early = True\n",
    "        else:\n",
    "            self.best_score = score\n",
    "            self.save_checkpoint(val_loss, model)\n",
    "            self.counter = 0\n",
    "    \n",
    "    def save_checkpoint(self, val_loss, model):\n",
    "        if self.verbose:\n",
    "            print(f\"Validation loss improved ({self.min_loss} -> {val_loss})\")\n",
    "        self.best_state = {k: v.clone() for k, v in model.state_dict().items()}\n",
    "        self.min_loss = val_loss\n",
    "    "
   ]
  },
  {
   "cell_type": "code",
   "execution_count": 220,
   "id": "63d77391",
   "metadata": {},
   "outputs": [
    {
     "name": "stdout",
     "output_type": "stream",
     "text": [
      "2.0.0+cu118\n",
      "True\n",
      "Epoch 1: Training Acc = 0.780 | Val Acc = 0.818 | Training Loss = 0.447| Val Loss = 0.398\n",
      "Epoch 2: Training Acc = 0.843 | Val Acc = 0.826 | Training Loss = 0.357| Val Loss = 0.387\n",
      "Epoch 3: Training Acc = 0.866 | Val Acc = 0.824 | Training Loss = 0.312| Val Loss = 0.394\n",
      "Early stopping triggered\n"
     ]
    }
   ],
   "source": [
    "print (torch.__version__)\n",
    "print (torch.cuda.is_available())\n",
    "\n",
    "early_stopping = EarlyStopping(patience=1, verbose=False)\n",
    "\n",
    "start = time.time()\n",
    "for epoch in range(10):\n",
    "    train_loss, train_acc = train_loop(model, train_loader, optimizer=optimizer, criterion=criterion)\n",
    "    val_loss, val_acc = evaluate(model, val_loader, criterion=criterion)\n",
    "    print (f\"Epoch {epoch+1}: Training Acc = {train_acc:.3f} | Val Acc = {val_acc:.3f} | Training Loss = {train_loss:.3f}| Val Loss = {val_loss:.3f}\")\n",
    "    \n",
    "    early_stopping(val_loss, model)\n",
    "    if early_stopping.stop_early:\n",
    "        print (\"Early stopping triggered\")\n",
    "        break\n",
    "end = time.time()\n",
    "dl_time = end - start\n",
    "\n",
    "if early_stopping.best_state is not None:\n",
    "    model.load_state_dict(early_stopping.best_state)"
   ]
  },
  {
   "cell_type": "code",
   "execution_count": 158,
   "id": "3a6e6b98",
   "metadata": {},
   "outputs": [
    {
     "name": "stdout",
     "output_type": "stream",
     "text": [
      "Test loss = 0.3861074270831246 | Test Acc = 0.8255713996763754\n"
     ]
    }
   ],
   "source": [
    "test_loss, test_acc = evaluate(model, test_loader, criterion=criterion)\n",
    "print (f\"Test loss = {test_loss} | Test Acc = {test_acc}\")"
   ]
  },
  {
   "cell_type": "markdown",
   "id": "e6742d1e",
   "metadata": {},
   "source": [
    "Awesome, ~82% is a great accuracy and it's nice to see our LSTM is doing better than the traditional LR model."
   ]
  },
  {
   "cell_type": "markdown",
   "id": "ac307585",
   "metadata": {},
   "source": [
    "---\n",
    "### 4. Comparisons and Conclusions 💭\n",
    "#### Steps 📄:\n",
    "- Analyze classification reports\n",
    "\n",
    "- Create, compare, and analyze ROC curves\n",
    "\n",
    "- Analyze confusion matrices\n",
    "\n",
    "- Check error overlap\n",
    "\n",
    "- Analyze and compare model training and inferencing times \n",
    "\n",
    "- Compare model memory usage\n",
    "\n",
    "- Oberserve and analyze model sizes"
   ]
  },
  {
   "cell_type": "markdown",
   "id": "7bae8349",
   "metadata": {},
   "source": [
    "To compare our two models (ML and DL), lets start by comparing their standard metrics (F1 score, accuracy/loss, ROC curve)"
   ]
  },
  {
   "cell_type": "markdown",
   "id": "817d45f7",
   "metadata": {},
   "source": [
    "#### F1 score, recall, and precision"
   ]
  },
  {
   "cell_type": "code",
   "execution_count": 159,
   "id": "aac3e0a9",
   "metadata": {},
   "outputs": [
    {
     "name": "stdout",
     "output_type": "stream",
     "text": [
      "ML (LR) Report:\n",
      "               precision    recall  f1-score   support\n",
      "\n",
      "           0       0.80      0.78      0.79     79036\n",
      "           1       0.79      0.81      0.80     79111\n",
      "\n",
      "    accuracy                           0.80    158147\n",
      "   macro avg       0.80      0.80      0.80    158147\n",
      "weighted avg       0.80      0.80      0.80    158147\n",
      "\n",
      "DL (LSTM) Report:\n",
      "               precision    recall  f1-score   support\n",
      "\n",
      "           0       0.83      0.82      0.82     79036\n",
      "           1       0.82      0.83      0.83     79111\n",
      "\n",
      "    accuracy                           0.83    158147\n",
      "   macro avg       0.83      0.83      0.83    158147\n",
      "weighted avg       0.83      0.83      0.83    158147\n",
      "\n"
     ]
    }
   ],
   "source": [
    "# Logistic Regression model\n",
    "ml_preds = clf.predict(vectorizer.transform(test_texts))\n",
    "\n",
    "# LSTM model\n",
    "model.eval()\n",
    "dl_preds = []\n",
    "\n",
    "with torch.no_grad():\n",
    "    for batch in test_loader:\n",
    "        texts, labels = batch\n",
    "        texts = texts.to(next(model.parameters()).device)\n",
    "        output = model(texts)\n",
    "        \n",
    "        probs = torch.sigmoid(output).squeeze()\n",
    "        preds = (probs >= 0.5).int()\n",
    "        \n",
    "        dl_preds.extend(preds.cpu().numpy())\n",
    "dl_preds = np.array(dl_preds)\n",
    "                        \n",
    "#Create classification reports\n",
    "from sklearn.metrics import classification_report\n",
    "\n",
    "print(\"ML (LR) Report:\\n\", classification_report(test_labels, ml_preds))\n",
    "print(\"DL (LSTM) Report:\\n\", classification_report(test_labels, dl_preds))"
   ]
  },
  {
   "cell_type": "markdown",
   "id": "823e6bf7",
   "metadata": {},
   "source": [
    "Nice! Looks, like both models perform well with the LSTM model performing a little better by about 3%. Furthermore, both perform well across each class and we can again verify our balanced dataset.<br/>\n",
    "Now lets plot each model's ROC curve along with their AUCs to gain insight into the TPR v.s. FPR across every threshold."
   ]
  },
  {
   "cell_type": "markdown",
   "id": "5634a4c1",
   "metadata": {},
   "source": [
    "#### ROC Curves"
   ]
  },
  {
   "cell_type": "code",
   "execution_count": 161,
   "id": "0dc2d552",
   "metadata": {},
   "outputs": [
    {
     "data": {
      "image/png": "[encoded data removed]",
      "text/plain": [
       "<Figure size 700x600 with 1 Axes>"
      ]
     },
     "metadata": {},
     "output_type": "display_data"
    }
   ],
   "source": [
    "#Logistic Regression model\n",
    "ml_prob = clf.predict_proba(vectorizer.transform(test_texts))[:, 1]\n",
    "\n",
    "#LSTM model\n",
    "model.eval()\n",
    "dl_probs = []\n",
    "\n",
    "with torch.no_grad():\n",
    "    for batch in test_loader:\n",
    "        texts, labels = batch\n",
    "        texts = texts.to(next(model.parameters()).device)\n",
    "        output = model(texts)\n",
    "        \n",
    "        probs = torch.sigmoid(output).squeeze()\n",
    "        \n",
    "        dl_probs.extend(probs.cpu().numpy())\n",
    "dl_probs = np.array(dl_probs)\n",
    "\n",
    "#Create ROC curves\n",
    "from sklearn.metrics import roc_curve, roc_auc_score\n",
    "\n",
    "#LR model\n",
    "ml_fpr, ml_tpr, _ = roc_curve(test_labels, ml_prob)\n",
    "ml_auc = roc_auc_score(test_labels, ml_prob)\n",
    "\n",
    "#LSTM model\n",
    "dl_fpr, dl_tpr, _ = roc_curve(test_labels, dl_probs)\n",
    "dl_auc = roc_auc_score(test_labels, dl_probs)\n",
    "\n",
    "#Lets plot them\n",
    "plt.figure(figsize=(7, 6))\n",
    "\n",
    "plt.plot(ml_fpr, ml_tpr, label=f\"ML LR Model (AUC={ml_auc:3f})\")\n",
    "plt.plot(dl_fpr, dl_tpr, label=f\"DL LSTM Model (AUC={dl_auc:3f})\")\n",
    "plt.plot([0,1], [0,1], linestyle=\"--\", color=\"grey\")\n",
    "plt.xlabel(\"False Positive Rate\")\n",
    "plt.ylabel(\"True Positive Rate\")\n",
    "plt.title(\"ROC Curve Comparison\")\n",
    "plt.legend()\n",
    "plt.show()\n"
   ]
  },
  {
   "cell_type": "markdown",
   "id": "d61054e2",
   "metadata": {},
   "source": [
    "Wow, absolutely great performance from both models. Specifically an amazing AUC score from our LSTM model w/ <u>**0.9**</u>!"
   ]
  },
  {
   "cell_type": "markdown",
   "id": "79a8b461",
   "metadata": {},
   "source": [
    "Now lets further visualize these models' performance at their current thresholds using confusion matrices."
   ]
  },
  {
   "cell_type": "markdown",
   "id": "9013c130",
   "metadata": {},
   "source": [
    "#### Confusion Matrices"
   ]
  },
  {
   "cell_type": "code",
   "execution_count": 170,
   "id": "ff10c3f6",
   "metadata": {},
   "outputs": [
    {
     "data": {
      "image/png": "[encoded data removed]",
      "text/plain": [
       "<Figure size 1200x500 with 4 Axes>"
      ]
     },
     "metadata": {},
     "output_type": "display_data"
    }
   ],
   "source": [
    "#Just using previous varibles from classification report\n",
    "from sklearn.metrics import confusion_matrix\n",
    "\n",
    "ml_cm = confusion_matrix(test_labels, ml_preds)\n",
    "dl_cm = confusion_matrix(test_labels, dl_preds)\n",
    "\n",
    "#Lets visualize them\n",
    "fig, axes = plt.subplots(1, 2, figsize=(12, 5))\n",
    "\n",
    "sns.heatmap(ml_cm, annot=True, fmt=\"d\", cmap=\"rocket\", ax=axes[0])\n",
    "axes[0].set_title(\"ML LR Confusion Matrix\")\n",
    "axes[0].set_xlabel(\"Predicted\")\n",
    "axes[0].set_ylabel(\"Actual\")\n",
    "\n",
    "sns.heatmap(dl_cm, annot=True, fmt=\"d\", cmap=\"mako\", ax=axes[1])\n",
    "axes[1].set_title(\"DL LSTM Confusion Matrix\")\n",
    "axes[1].set_xlabel(\"Predicted\")\n",
    "axes[1].set_ylabel(\"Actual\")\n",
    "\n",
    "plt.tight_layout()\n",
    "plt.show()"
   ]
  },
  {
   "cell_type": "markdown",
   "id": "f974389a",
   "metadata": {},
   "source": [
    "Nice, this highlights the better performance of the DL model as well as the TPR v.s. FPR between classses.<br/>"
   ]
  },
  {
   "cell_type": "markdown",
   "id": "7a856873",
   "metadata": {},
   "source": [
    "Specifically, the ML model appears to struggle a little more with negative sentiment, showing a higher FPR relative to positive tweets. One reason for this could be due to the LSTM's ability to pick up on sentiment and more context-dependend langauge, whereas the TF-IDF LR model is not as complex. <br/>For example, the tweets \"This model is <u>not</u> good\" and \"I <u>don't</u> like this\" could become a false positive as the logistic regression model may not pick up on \"not\" and \"don't\", instead focusing on \"good\" and \"like\"."
   ]
  },
  {
   "cell_type": "markdown",
   "id": "c9b033f4",
   "metadata": {},
   "source": [
    "Now, lets take a look at the models' error overlap to figure out where they're failing (together or seperately)."
   ]
  },
  {
   "cell_type": "markdown",
   "id": "3a13029b",
   "metadata": {},
   "source": [
    "#### Error Overlap"
   ]
  },
  {
   "cell_type": "code",
   "execution_count": null,
   "id": "bc3d88b1",
   "metadata": {},
   "outputs": [
    {
     "name": "stdout",
     "output_type": "stream",
     "text": [
      "Total test samples: 158147\n",
      "Errors ML: 32102\n",
      "Errors DL: 27596\n",
      "Error overlap: 19090\n",
      "Unique ML errors: 13012\n",
      "Unique DL errors: 8506\n"
     ]
    }
   ],
   "source": [
    "#Using vars from earlier\n",
    "ml_errors = (ml_preds != test_labels)\n",
    "dl_errors = (dl_preds != test_labels)\n",
    "\n",
    "overlap = np.logical_and(ml_errors, dl_errors)\n",
    "just_ml = np.logical_and(ml_errors, ~dl_errors)\n",
    "just_dl = np.logical_and(~ml_errors, dl_errors)\n",
    "\n",
    "print(\"Total test samples:\", len(test_labels))\n",
    "print(\"Errors ML:\", ml_errors.sum())\n",
    "print(\"Errors DL:\", dl_errors.sum())\n",
    "print(\"Error overlap:\", overlap.sum())\n",
    "print(\"Unique ML errors:\", just_ml.sum())\n",
    "print(\"Unique DL errors:\", just_dl.sum())"
   ]
  },
  {
   "cell_type": "markdown",
   "id": "7f467179",
   "metadata": {},
   "source": [
    "Some nice insights, futher proving the effectiveness of our DL model.<br/>\n",
    "But, the error overlap doesn't give us the best feel for each model fails on. Instead, lets test on some of our own tweets that we input and see how each model makes a prediction."
   ]
  },
  {
   "cell_type": "code",
   "execution_count": 199,
   "id": "94789171",
   "metadata": {},
   "outputs": [
    {
     "name": "stdout",
     "output_type": "stream",
     "text": [
      "ML Prediction: Positive  |  DL Prediction: Negative\n"
     ]
    }
   ],
   "source": [
    "#Use the example or replace with text of your choice\n",
    "tweet_input = \"This model is not good\"\n",
    "\n",
    "#LR model\n",
    "ml_input_pred = clf.predict(vectorizer.transform([tweet_input]))[0]\n",
    "ml_input_pred = \"Positive\" if ml_input_pred==1 else \"Negative\"\n",
    "\n",
    "#LSTM model\n",
    "model.eval()\n",
    "\n",
    "tokenized = []\n",
    "for word in tweet_input.split():\n",
    "    if word in vocab.word2idx:\n",
    "        tokenized.append(vocab.word2idx[word])\n",
    "    else:\n",
    "        tokenized.append(vocab.word2idx['<unk>'])\n",
    "tensorized = torch.tensor(tokenized, dtype=torch.long).unsqueeze(0)\n",
    "tensorized = tensorized.to(next(model.parameters()).device)\n",
    "\n",
    "with torch.no_grad():\n",
    "    output = model(tensorized)\n",
    "    dl_prob = torch.sigmoid(output).item()\n",
    "    dl_input_pred = \"Postive\" if dl_prob >= 0.5 else \"Negative\"\n",
    "\n",
    "print(f\"ML Prediction: {ml_input_pred}  |  DL Prediction: {dl_input_pred}\")"
   ]
  },
  {
   "cell_type": "markdown",
   "id": "4bdaa26a",
   "metadata": {},
   "source": [
    "Awesome. That allows us to play around with different user-chosen tweet inputs. If you use the example \"This model is <u>not</u> good\" you can see for yourself how the ML model struggles to pick up on context-dependent sentiment whereas the DL model succeeds."
   ]
  },
  {
   "cell_type": "markdown",
   "id": "163a1825",
   "metadata": {},
   "source": [
    "We now have a good idea about the overall performance of each of our models.<br/>\n",
    "Now let's compare the individual efficiency/compute of each model. "
   ]
  },
  {
   "cell_type": "markdown",
   "id": "b15f3dc5",
   "metadata": {},
   "source": [
    "Lets start by taking a look at the time each model takes, both to train and to inference (on mini-batches rather than full dataset)."
   ]
  },
  {
   "cell_type": "markdown",
   "id": "3cdf8b36",
   "metadata": {},
   "source": [
    "#### Time Comparisons"
   ]
  },
  {
   "cell_type": "code",
   "execution_count": 261,
   "id": "e380a3ac",
   "metadata": {},
   "outputs": [
    {
     "data": {
      "image/png": "[encoded data removed]",
      "text/plain": [
       "<Figure size 800x600 with 1 Axes>"
      ]
     },
     "metadata": {},
     "output_type": "display_data"
    }
   ],
   "source": [
    "#Plot using times from earlier\n",
    "plt.figure(figsize=(8,6))\n",
    "bars = plt.bar([\"ML\", \"DL\"], [ml_time, dl_time], color=[\"skyblue\", \"limegreen\"])\n",
    "plt.ylabel(\"Training Time, Seconds (s)\")\n",
    "plt.xlabel(\"Models\")\n",
    "plt.title(\"Model Train Time Comparison (100 batches) w/ Ryzen 2700x & RTX 2060\")\n",
    "plt.grid(axis=\"y\", alpha=0.4)\n",
    "\n",
    "for bar, bar_time in zip(bars, [ml_time, dl_time]):\n",
    "    plt.text(bar.get_x() + bar.get_width()/2, bar.get_height() + 0.05, f\"{bar_time:.1f} seconds\", ha=\"center\", va=\"bottom\")\n",
    "\n",
    "plt.show()"
   ]
  },
  {
   "cell_type": "markdown",
   "id": "2f0c7017",
   "metadata": {},
   "source": [
    "Wow, this graph revealed the drastic speed difference between the Logistic Regression and LSTM model. Of course, this is to be expected as the LSTM is far more complex a model compared to the LR model.<br/>\n",
    "Let's see how they compare when inferencing."
   ]
  },
  {
   "cell_type": "code",
   "execution_count": 247,
   "id": "72880364",
   "metadata": {},
   "outputs": [
    {
     "data": {
      "image/png": "[encoded data removed]",
      "text/plain": [
       "<Figure size 800x600 with 1 Axes>"
      ]
     },
     "metadata": {},
     "output_type": "display_data"
    }
   ],
   "source": [
    "#ML inference time\n",
    "start = time.time()\n",
    "_ = clf.predict(vectorizer.transform(test_texts))\n",
    "end = time.time()\n",
    "ml_inf_time = (end - start)\n",
    "\n",
    "#DL inference time\n",
    "start = time.time()\n",
    "model.eval()\n",
    "with torch.no_grad():\n",
    "    for batch in test_loader:\n",
    "        texts, labels = batch\n",
    "        texts = texts.to(next(model.parameters()).device)\n",
    "        output = model(texts)\n",
    "        \n",
    "        probs = torch.sigmoid(output).squeeze()\n",
    "        _ = (probs >= 0.5).int()\n",
    "end = time.time()\n",
    "dl_inf_time = (end - start)\n",
    "\n",
    "#Plot it\n",
    "plt.figure(figsize=(8,6))\n",
    "bars = plt.bar([\"ML\", \"DL\"], [ml_inf_time, dl_inf_time], color=[\"skyblue\", \"limegreen\"])\n",
    "plt.ylabel(\"Inferencing Time, Seconds (s)\")\n",
    "plt.xlabel(\"Models\")\n",
    "plt.title(\"Model Inference Time Comparison w/ Ryzen 2700x & RTX 2060\")\n",
    "plt.grid(axis=\"y\", alpha=0.4)\n",
    "\n",
    "for bar, bar_time in zip(bars, [ml_inf_time, dl_inf_time]):\n",
    "    plt.text(bar.get_x() + bar.get_width()/2, bar.get_height() + 0.05, f\"{bar_time:.1f} seconds\", ha=\"center\", va=\"bottom\")\n",
    "\n",
    "plt.show()"
   ]
  },
  {
   "cell_type": "markdown",
   "id": "fb0c3aa0",
   "metadata": {},
   "source": [
    "Very cool to see. While the ML model is ~75x faster at training, it is only ~4x faster when inferencing. Of course it is still faster due to its more efficient, simple nature. But, what this chart reveals when compared to the previous is how computationally expensive the LSTM's backprop must be during training."
   ]
  },
  {
   "cell_type": "markdown",
   "id": "5f24073c",
   "metadata": {},
   "source": [
    "Now lets take a look at each model's memory usage."
   ]
  },
  {
   "cell_type": "markdown",
   "id": "3d229847",
   "metadata": {},
   "source": [
    "#### Memory Usage"
   ]
  },
  {
   "cell_type": "markdown",
   "id": "e60810a0",
   "metadata": {},
   "source": [
    "Built with `scikitlearn`, the ML model runs on CPU whereas the `PyTorch` LSTM runs on the GPU. To track the models' memory consumption we can use `psutil` for the RAM and `torch` for the VRAM. "
   ]
  },
  {
   "cell_type": "code",
   "execution_count": 272,
   "id": "3b21b8e0",
   "metadata": {},
   "outputs": [
    {
     "name": "stdout",
     "output_type": "stream",
     "text": [
      "ML Model Memory Usage: 56.06 MB\n",
      "DL Model Memory Usage: 258.21 MB\n"
     ]
    }
   ],
   "source": [
    "#ML model\n",
    "import psutil, os\n",
    "\n",
    "process = psutil.Process(os.getpid())\n",
    "pre_mem = process.memory_info().rss / 1e6\n",
    "_ = clf.predict(vectorizer.transform(test_texts))\n",
    "post_mem = process.memory_info().rss / 1e6\n",
    "print (f\"ML Model Memory Usage: {(post_mem - pre_mem):.2f} MB\")\n",
    "\n",
    "#DL model\n",
    "torch.cuda.reset_peak_memory_stats()\n",
    "\n",
    "with torch.no_grad():\n",
    "    for batch in test_loader:\n",
    "        texts, labels = batch\n",
    "        texts = texts.to(next(model.parameters()).device)\n",
    "        output = model(texts)\n",
    "        \n",
    "        probs = torch.sigmoid(output).squeeze()\n",
    "        _ = (probs >= 0.5).int()\n",
    "dl_mem = (torch.cuda.max_memory_allocated() / 1e6)\n",
    "print (f\"DL Model Memory Usage: {dl_mem:.2f} MB\")"
   ]
  },
  {
   "cell_type": "markdown",
   "id": "a841c07d",
   "metadata": {},
   "source": [
    "Cool, so the ML model uses about 5x less memory than our DL model (another revealed consequence of it's higher complexity)."
   ]
  },
  {
   "cell_type": "markdown",
   "id": "f6fa873d",
   "metadata": {},
   "source": [
    "That was the memory, but lets also take a look at the sizes of the model in storage."
   ]
  },
  {
   "cell_type": "markdown",
   "id": "6aec0432",
   "metadata": {},
   "source": [
    "#### Model Sizes"
   ]
  },
  {
   "cell_type": "code",
   "execution_count": 257,
   "id": "7d2a4116",
   "metadata": {},
   "outputs": [
    {
     "name": "stdout",
     "output_type": "stream",
     "text": [
      "ML Model Size: 0.120863 MB\n",
      "DL Model Size: 37.500941 MB\n"
     ]
    }
   ],
   "source": [
    "#ML model\n",
    "import joblib\n",
    "joblib.dump(clf, \"clf.pkl\")\n",
    "print (f\"ML Model Size: {(os.path.getsize('clf.pkl')) / 1e6} MB\")\n",
    "\n",
    "#DL model\n",
    "torch.save(model.state_dict(), \"lstm.pth\")\n",
    "print (f\"DL Model Size: {(os.path.getsize('lstm.pth')) / 1e6} MB\")"
   ]
  },
  {
   "cell_type": "markdown",
   "id": "ea20bcc8",
   "metadata": {},
   "source": [
    "Building on this we can take a look at the total parameters in our LSTM."
   ]
  },
  {
   "cell_type": "code",
   "execution_count": null,
   "id": "5f2cf0fd",
   "metadata": {},
   "outputs": [
    {
     "name": "stdout",
     "output_type": "stream",
     "text": [
      "9374789\n"
     ]
    }
   ],
   "source": [
    "tot_params = sum(p.numel() for p in model.parameters())\n",
    "print (tot_params)"
   ]
  },
  {
   "cell_type": "markdown",
   "id": "242f3493",
   "metadata": {},
   "source": [
    "This is actually really interesting as we can now draw connections to the model size in MB.<br>\n",
    "With ~9.4 million parameters, and with each parameter being a 32-bit float (4 bytes) we find that the estimated model size is 37.499156 MB which perfectly aligns with what is on disk at 37.5 MB."
   ]
  },
  {
   "cell_type": "markdown",
   "id": "c5eeafc5",
   "metadata": {},
   "source": [
    "#### Conclusion"
   ]
  },
  {
   "cell_type": "markdown",
   "id": "17e64c95",
   "metadata": {},
   "source": [
    "Overall, here is what we found:\n",
    "\n"
   ]
  },
  {
   "cell_type": "code",
   "execution_count": 278,
   "id": "7ce361fe",
   "metadata": {},
   "outputs": [
    {
     "name": "stdout",
     "output_type": "stream",
     "text": [
      "                   |TF-IDF LR|  |LSTM|   Best Model\n",
      "Metric                                             \n",
      "Accuracy                  0.80    0.83       |LSTM|\n",
      "Precision                 0.80    0.83       |LSTM|\n",
      "Recall                    0.80    0.83       |LSTM|\n",
      "F1 Score                  0.80    0.83       |LSTM|\n",
      "ROC AUC                   0.88    0.91       |LSTM|\n",
      "Train Time (s)            7.07  512.99  |TF-IDF LR|\n",
      "Inf. Time (s)             1.94    7.64  |TF-IDF LR|\n",
      "Memory Usage (MB)        56.06  258.21  |TF-IDF LR|\n"
     ]
    }
   ],
   "source": [
    "metrics = ['Accuracy', 'Precision', 'Recall', 'F1 Score', 'ROC AUC', 'Train Time (s)', 'Inf. Time (s)', 'Memory Usage (MB)']\n",
    "ml_scores = [0.80, 0.80, 0.80, 0.80, ml_auc, ml_time, ml_inf_time, (post_mem - pre_mem)]\n",
    "dl_scores = [0.83, 0.83, 0.83, 0.83, dl_auc, dl_time, dl_inf_time, dl_mem]\n",
    "\n",
    "df = pd.DataFrame({'Metric': metrics, '|TF-IDF LR|': ml_scores, '|LSTM|': dl_scores})\n",
    "df.set_index('Metric', inplace=True)\n",
    "df['Best Model'] = df.idxmax(axis=1)\n",
    "\n",
    "df.loc['Train Time (s)', 'Best Model'] = df.loc['Train Time (s)', ['|TF-IDF LR|', '|LSTM|']].idxmin()\n",
    "df.loc['Inf. Time (s)', 'Best Model'] = df.loc['Inf. Time (s)', ['|TF-IDF LR|', '|LSTM|']].idxmin()\n",
    "df.loc['Memory Usage (MB)', 'Best Model'] = df.loc['Memory Usage (MB)', ['|TF-IDF LR|', '|LSTM|']].idxmin()\n",
    "print(df.round(2))"
   ]
  },
  {
   "cell_type": "markdown",
   "id": "40fa83e5",
   "metadata": {},
   "source": [
    "Taking one last overview, these numbers line up with about what we would expect. The LSTM model demonstrates it's deeper complexity and contextual skills, winning in all of the performance metrics. The TF-IDF Logistic Regression model, on the other hand, is much stronger in each efficiency benchmark, taking advantage of it's smaller size and less-complex nature. "
   ]
  },
  {
   "cell_type": "markdown",
   "id": "34681dea",
   "metadata": {},
   "source": [
    "Overall, I had a lot of fun working on this project and I learned a ton about LSTMs and PyTorch. I found it really interesting comparing the two models. Specifically, I thought it was super cool to be able to really observe the deep, technical reasons these models are fundementally different through using specific prompts like \"This model is not good\" to highlight each model's different classification process. Moving forwards, I will try to upkeep this project by periodically adding more comments if necessary, possibly updating if I learn more I'd like to add in the future."
   ]
  }
 ],
 "metadata": {
  "kernelspec": {
   "display_name": "venv-nlp (3.11.9)",
   "language": "python",
   "name": "python3"
  },
  "language_info": {
   "codemirror_mode": {
    "name": "ipython",
    "version": 3
   },
   "file_extension": ".py",
   "mimetype": "text/x-python",
   "name": "python",
   "nbconvert_exporter": "python",
   "pygments_lexer": "ipython3",
   "version": "3.11.9"
  }
 },
 "nbformat": 4,
 "nbformat_minor": 5
}
